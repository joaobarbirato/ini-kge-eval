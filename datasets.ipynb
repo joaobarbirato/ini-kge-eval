{
 "cells": [
  {
   "cell_type": "code",
   "execution_count": 1,
   "metadata": {},
   "outputs": [
    {
     "name": "stderr",
     "output_type": "stream",
     "text": [
      "/home/jgmbarbirato/miniconda3/envs/base-exp/lib/python3.11/site-packages/tqdm/auto.py:21: TqdmWarning: IProgress not found. Please update jupyter and ipywidgets. See https://ipywidgets.readthedocs.io/en/stable/user_install.html\n",
      "  from .autonotebook import tqdm as notebook_tqdm\n"
     ]
    }
   ],
   "source": [
    "import torch_geometric as pyg"
   ]
  },
  {
   "cell_type": "code",
   "execution_count": 2,
   "metadata": {},
   "outputs": [],
   "source": [
    "from torch_geometric.nn import MetaPath2Vec"
   ]
  },
  {
   "cell_type": "markdown",
   "metadata": {},
   "source": [
    "## ACM"
   ]
  },
  {
   "cell_type": "code",
   "execution_count": 3,
   "metadata": {},
   "outputs": [
    {
     "data": {
      "text/plain": [
       "(Data(edge_index=[2, 547872], x=[10942, 1902], y=[10942], train_mask=[10942], test_mask=[10942], node_type=[10942], edge_type=[547872]),\n",
       " HeteroData(\n",
       "   paper={\n",
       "     x=[3025, 1902],\n",
       "     y=[3025],\n",
       "     train_mask=[3025],\n",
       "     test_mask=[3025],\n",
       "   },\n",
       "   author={ x=[5959, 1902] },\n",
       "   subject={ x=[56, 1902] },\n",
       "   term={ num_nodes=1902 },\n",
       "   (paper, cite, paper)={ edge_index=[2, 5343] },\n",
       "   (paper, ref, paper)={ edge_index=[2, 5343] },\n",
       "   (paper, to, author)={ edge_index=[2, 9949] },\n",
       "   (author, to, paper)={ edge_index=[2, 9949] },\n",
       "   (paper, to, subject)={ edge_index=[2, 3025] },\n",
       "   (subject, to, paper)={ edge_index=[2, 3025] },\n",
       "   (paper, to, term)={ edge_index=[2, 255619] },\n",
       "   (term, to, paper)={ edge_index=[2, 255619] }\n",
       " ))"
      ]
     },
     "execution_count": 3,
     "metadata": {},
     "output_type": "execute_result"
    }
   ],
   "source": [
    "acm_data = pyg.datasets.HGBDataset(root=\"./data/HGB\", name=\"ACM\")[0]\n",
    "#acm_data = acm_data.node_type_subgraph(['author', 'paper', 'subject'])\n",
    "\n",
    "acm_nx = pyg.utils.to_networkx(acm_data)\n",
    "acm_homo = acm_data.to_homogeneous()\n",
    "acm_homo, acm_data"
   ]
  },
  {
   "cell_type": "code",
   "execution_count": 4,
   "metadata": {},
   "outputs": [
    {
     "data": {
      "text/plain": [
       "HeteroData(\n",
       "  paper={\n",
       "    x=[3025, 1902],\n",
       "    y=[3025],\n",
       "    train_mask=[3025],\n",
       "    test_mask=[3025],\n",
       "  },\n",
       "  author={ x=[5959, 1902] },\n",
       "  subject={ x=[56, 1902] },\n",
       "  (paper, to, author)={ edge_index=[2, 9949] },\n",
       "  (author, to, paper)={ edge_index=[2, 9949] },\n",
       "  (paper, to, subject)={ edge_index=[2, 3025] },\n",
       "  (subject, to, paper)={ edge_index=[2, 3025] }\n",
       ")"
      ]
     },
     "execution_count": 4,
     "metadata": {},
     "output_type": "execute_result"
    }
   ],
   "source": [
    "acm_data = acm_data.edge_type_subgraph([\n",
    "    ('author', 'to', 'paper'),\n",
    "    ('paper', 'to', 'author'),\n",
    "    ('paper', 'to', 'subject'),\n",
    "    ('subject', 'to', 'paper')\n",
    "])\n",
    "acm_data"
   ]
  },
  {
   "cell_type": "code",
   "execution_count": 5,
   "metadata": {},
   "outputs": [
    {
     "data": {
      "text/plain": [
       "MetaPath2Vec(8984, 50)"
      ]
     },
     "execution_count": 5,
     "metadata": {},
     "output_type": "execute_result"
    }
   ],
   "source": [
    "model2 = MetaPath2Vec(\n",
    "    acm_data.edge_index_dict, \n",
    "    embedding_dim=50, \n",
    "    walk_length=20, \n",
    "    context_size=7, \n",
    "    metapath=[\n",
    "        ('author', 'to', 'paper'),\n",
    "        ('paper', 'to', 'author')\n",
    "    ],\n",
    "    sparse=True\n",
    ")\n",
    "model2"
   ]
  },
  {
   "cell_type": "code",
   "execution_count": 6,
   "metadata": {},
   "outputs": [
    {
     "data": {
      "text/plain": [
       "MetaPath2Vec(9040, 50)"
      ]
     },
     "execution_count": 6,
     "metadata": {},
     "output_type": "execute_result"
    }
   ],
   "source": [
    "model = MetaPath2Vec(\n",
    "    acm_data.edge_index_dict, \n",
    "    embedding_dim=50, \n",
    "    walk_length=20, \n",
    "    context_size=11, \n",
    "    metapath=[\n",
    "        ('author', 'to', 'paper'),\n",
    "        ('paper', 'to', 'subject'),\n",
    "        ('subject', 'to', 'paper'),\n",
    "        ('paper', 'to', 'author')\n",
    "    ],\n",
    "    sparse=True\n",
    ")\n",
    "model"
   ]
  },
  {
   "cell_type": "code",
   "execution_count": 8,
   "metadata": {},
   "outputs": [
    {
     "name": "stderr",
     "output_type": "stream",
     "text": [
      "Epoch: 1, Step: 00024/24, Loss: 1.2311: 100%|██████████| 24/24 [00:01<00:00, 21.85it/s]\n",
      "Epoch: 2, Step: 00024/24, Loss: 1.0187: 100%|██████████| 24/24 [00:00<00:00, 24.02it/s]\n",
      "Epoch: 3, Step: 00024/24, Loss: 0.8640: 100%|██████████| 24/24 [00:01<00:00, 20.87it/s]\n",
      "Epoch: 4, Step: 00024/24, Loss: 0.7442: 100%|██████████| 24/24 [00:01<00:00, 21.93it/s]\n",
      "Epoch: 5, Step: 00024/24, Loss: 0.6536: 100%|██████████| 24/24 [00:01<00:00, 21.85it/s]\n",
      "Epoch: 6, Step: 00024/24, Loss: 0.5818: 100%|██████████| 24/24 [00:01<00:00, 20.78it/s]\n",
      "Epoch: 7, Step: 00024/24, Loss: 0.5248: 100%|██████████| 24/24 [00:00<00:00, 24.04it/s]\n",
      "Epoch: 8, Step: 00024/24, Loss: 0.4768: 100%|██████████| 24/24 [00:01<00:00, 22.27it/s]\n",
      "Epoch: 9, Step: 00024/24, Loss: 0.4399: 100%|██████████| 24/24 [00:00<00:00, 24.30it/s]\n",
      "Epoch: 10, Step: 00024/24, Loss: 0.4081: 100%|██████████| 24/24 [00:01<00:00, 22.83it/s]\n",
      "Epoch: 11, Step: 00024/24, Loss: 0.3818: 100%|██████████| 24/24 [00:01<00:00, 23.42it/s]\n",
      "Epoch: 12, Step: 00024/24, Loss: 0.3613: 100%|██████████| 24/24 [00:01<00:00, 21.41it/s]\n",
      "Epoch: 13, Step: 00024/24, Loss: 0.3434: 100%|██████████| 24/24 [00:01<00:00, 23.82it/s]\n",
      "Epoch: 14, Step: 00024/24, Loss: 0.3290: 100%|██████████| 24/24 [00:01<00:00, 21.09it/s]\n",
      "Epoch: 15, Step: 00024/24, Loss: 0.3160: 100%|██████████| 24/24 [00:01<00:00, 22.71it/s]\n",
      "Epoch: 16, Step: 00024/24, Loss: 0.3051: 100%|██████████| 24/24 [00:01<00:00, 21.64it/s]\n",
      "Epoch: 17, Step: 00024/24, Loss: 0.2972: 100%|██████████| 24/24 [00:01<00:00, 22.29it/s]\n",
      "Epoch: 18, Step: 00024/24, Loss: 0.2890: 100%|██████████| 24/24 [00:01<00:00, 21.89it/s]\n",
      "Epoch: 19, Step: 00024/24, Loss: 0.2813: 100%|██████████| 24/24 [00:01<00:00, 22.84it/s]\n",
      "Epoch: 20, Step: 00024/24, Loss: 0.2755: 100%|██████████| 24/24 [00:01<00:00, 23.88it/s]\n"
     ]
    },
    {
     "data": {
      "text/plain": [
       "MetaPath2Vec(9040, 50)"
      ]
     },
     "execution_count": 8,
     "metadata": {},
     "output_type": "execute_result"
    }
   ],
   "source": [
    "import torch\n",
    "from tqdm import tqdm\n",
    "def train_mp2vec(\n",
    "        model: MetaPath2Vec,\n",
    "        loader: pyg.data.DataLoader, \n",
    "        optimizer: torch.optim.Optimizer,\n",
    "        log_steps=100, epochs=20) -> MetaPath2Vec:\n",
    "\n",
    "\n",
    "    for epoch in range(1, epochs+1):\n",
    "        model.train()\n",
    "        total_loss = 0\n",
    "        for i, (pos_rw, neg_rw) in (pbar:= tqdm(enumerate(loader), total=len(loader))):\n",
    "            pbar.set_description(f'Epoch: {epoch}, Step: {i + 1:05d}/{len(loader)}, '\n",
    "                    f'Loss: {total_loss / log_steps:.4f}')\n",
    "            optimizer.zero_grad()\n",
    "            loss = model.loss(pos_rw, neg_rw)\n",
    "            loss.backward()\n",
    "            optimizer.step()\n",
    "\n",
    "            total_loss += loss.item()\n",
    "            if (i + 1) % log_steps == 0:\n",
    "                pbar.set_description(f'Epoch: {epoch}, Step: {i + 1:05d}/{len(loader)}, '\n",
    "                    f'Loss: {total_loss / log_steps:.4f}')\n",
    "                total_loss = 0\n",
    "\n",
    "    return model\n",
    "\n",
    "\n",
    "loader = model.loader(batch_size=256, shuffle=True, num_workers=16)\n",
    "optimizer = torch.optim.SparseAdam(list(model.parameters()), lr=0.01)\n",
    "train_mp2vec(model, loader, optimizer)"
   ]
  },
  {
   "cell_type": "code",
   "execution_count": 5,
   "metadata": {},
   "outputs": [
    {
     "data": {
      "text/plain": [
       "HeteroData(\n",
       "  book={\n",
       "    num_nodes=40402,\n",
       "    y=[40402],\n",
       "    train_mask=[40402],\n",
       "    test_mask=[40402],\n",
       "  },\n",
       "  film={ num_nodes=19427 },\n",
       "  music={ num_nodes=82351 },\n",
       "  sports={ num_nodes=1025 },\n",
       "  people={ num_nodes=17641 },\n",
       "  location={ num_nodes=9368 },\n",
       "  organization={ num_nodes=2731 },\n",
       "  business={ num_nodes=7153 },\n",
       "  (book, and, book)={ edge_index=[2, 202674] },\n",
       "  (book, to, film)={ edge_index=[2, 38299] },\n",
       "  (book, on, sports)={ edge_index=[2, 6615] },\n",
       "  (book, on, location)={ edge_index=[2, 26921] },\n",
       "  (book, about, organization)={ edge_index=[2, 21900] },\n",
       "  (film, and, film)={ edge_index=[2, 87838] },\n",
       "  (music, in, book)={ edge_index=[2, 31486] },\n",
       "  (music, in, film)={ edge_index=[2, 11291] },\n",
       "  (music, and, music)={ edge_index=[2, 283670] },\n",
       "  (music, for, sports)={ edge_index=[2, 8975] },\n",
       "  (music, on, location)={ edge_index=[2, 42915] },\n",
       "  (sports, in, film)={ edge_index=[2, 6763] },\n",
       "  (sports, and, sports)={ edge_index=[2, 1290] },\n",
       "  (sports, on, location)={ edge_index=[2, 656] },\n",
       "  (people, to, book)={ edge_index=[2, 35587] },\n",
       "  (people, to, film)={ edge_index=[2, 17604] },\n",
       "  (people, to, music)={ edge_index=[2, 10948] },\n",
       "  (people, to, sports)={ edge_index=[2, 14850] },\n",
       "  (people, and, people)={ edge_index=[2, 22813] },\n",
       "  (people, on, location)={ edge_index=[2, 15134] },\n",
       "  (people, in, organization)={ edge_index=[2, 2215] },\n",
       "  (people, in, business)={ edge_index=[2, 5378] },\n",
       "  (location, in, film)={ edge_index=[2, 21299] },\n",
       "  (location, and, location)={ edge_index=[2, 47817] },\n",
       "  (organization, in, film)={ edge_index=[2, 13128] },\n",
       "  (organization, to, music)={ edge_index=[2, 10702] },\n",
       "  (organization, to, sports)={ edge_index=[2, 559] },\n",
       "  (organization, on, location)={ edge_index=[2, 2696] },\n",
       "  (organization, and, organization)={ edge_index=[2, 1101] },\n",
       "  (organization, for, business)={ edge_index=[2, 1073] },\n",
       "  (business, about, book)={ edge_index=[2, 18625] },\n",
       "  (business, about, film)={ edge_index=[2, 8397] },\n",
       "  (business, about, music)={ edge_index=[2, 24764] },\n",
       "  (business, about, sports)={ edge_index=[2, 610] },\n",
       "  (business, on, location)={ edge_index=[2, 6647] },\n",
       "  (business, and, business)={ edge_index=[2, 4448] }\n",
       ")"
      ]
     },
     "execution_count": 5,
     "metadata": {},
     "output_type": "execute_result"
    }
   ],
   "source": [
    "fb_data = pyg.datasets.HGBDataset(root=\"./data/HGB\", name=\"Freebase\")[0]\n",
    "fb_data"
   ]
  },
  {
   "cell_type": "code",
   "execution_count": 6,
   "metadata": {},
   "outputs": [
    {
     "data": {
      "text/plain": [
       "HeteroData(\n",
       "  people={ num_nodes=17641 },\n",
       "  location={ num_nodes=9368 },\n",
       "  business={ num_nodes=7153 },\n",
       "  (people, and, people)={ edge_index=[2, 22813] },\n",
       "  (people, on, location)={ edge_index=[2, 15134] },\n",
       "  (people, in, business)={ edge_index=[2, 5378] },\n",
       "  (location, and, location)={ edge_index=[2, 47817] },\n",
       "  (business, on, location)={ edge_index=[2, 6647] },\n",
       "  (business, and, business)={ edge_index=[2, 4448] }\n",
       ")"
      ]
     },
     "execution_count": 6,
     "metadata": {},
     "output_type": "execute_result"
    }
   ],
   "source": [
    "fb_data.node_type_subgraph(\n",
    "    ['people', 'business', 'location']\n",
    ")"
   ]
  },
  {
   "cell_type": "code",
   "execution_count": 7,
   "metadata": {},
   "outputs": [
    {
     "data": {
      "text/plain": [
       "HeteroData(\n",
       "  author={\n",
       "    x=[4057, 334],\n",
       "    y=[4057],\n",
       "    train_mask=[4057],\n",
       "    val_mask=[4057],\n",
       "    test_mask=[4057],\n",
       "  },\n",
       "  paper={ x=[14328, 4231] },\n",
       "  term={ x=[7723, 50] },\n",
       "  conference={ num_nodes=20 },\n",
       "  (author, to, paper)={ edge_index=[2, 19645] },\n",
       "  (paper, to, author)={ edge_index=[2, 19645] },\n",
       "  (paper, to, term)={ edge_index=[2, 85810] },\n",
       "  (paper, to, conference)={ edge_index=[2, 14328] },\n",
       "  (term, to, paper)={ edge_index=[2, 85810] },\n",
       "  (conference, to, paper)={ edge_index=[2, 14328] }\n",
       ")"
      ]
     },
     "execution_count": 7,
     "metadata": {},
     "output_type": "execute_result"
    }
   ],
   "source": [
    "dblp_data = pyg.datasets.DBLP(root='./data/DBLP')[0]\n",
    "dblp_data"
   ]
  },
  {
   "cell_type": "code",
   "execution_count": 8,
   "metadata": {},
   "outputs": [
    {
     "data": {
      "text/plain": [
       "Data(x=[716847, 300], edge_index=[2, 13954819], y=[716847, 100], train_mask=[716847], val_mask=[716847], test_mask=[716847])"
      ]
     },
     "execution_count": 8,
     "metadata": {},
     "output_type": "execute_result"
    }
   ],
   "source": [
    "yelp_data = pyg.datasets.Yelp(root='./data/Yelp')[0]\n",
    "yelp_data"
   ]
  },
  {
   "cell_type": "code",
   "execution_count": 9,
   "metadata": {},
   "outputs": [
    {
     "data": {
      "text/plain": [
       "1"
      ]
     },
     "execution_count": 9,
     "metadata": {},
     "output_type": "execute_result"
    }
   ],
   "source": [
    "yelp_data.num_edge_types"
   ]
  },
  {
   "cell_type": "code",
   "execution_count": 10,
   "metadata": {},
   "outputs": [
    {
     "data": {
      "text/plain": [
       "Data(x=[19717, 500], edge_index=[2, 88648], y=[19717], train_mask=[19717], val_mask=[19717], test_mask=[19717])"
      ]
     },
     "execution_count": 10,
     "metadata": {},
     "output_type": "execute_result"
    }
   ],
   "source": [
    "pubmed_data = pyg.datasets.Planetoid(root=\"./data\", name=\"PubMed\")[0]\n",
    "pubmed_data"
   ]
  },
  {
   "cell_type": "code",
   "execution_count": 9,
   "metadata": {},
   "outputs": [
    {
     "data": {
      "text/plain": [
       "HeteroData(\n",
       "  movie={\n",
       "    x=[4278, 3066],\n",
       "    y=[4278],\n",
       "    train_mask=[4278],\n",
       "    val_mask=[4278],\n",
       "    test_mask=[4278],\n",
       "  },\n",
       "  director={ x=[2081, 3066] },\n",
       "  actor={ x=[5257, 3066] },\n",
       "  (movie, to, director)={ edge_index=[2, 4278] },\n",
       "  (movie, to, actor)={ edge_index=[2, 12828] },\n",
       "  (director, to, movie)={ edge_index=[2, 4278] },\n",
       "  (actor, to, movie)={ edge_index=[2, 12828] }\n",
       ")"
      ]
     },
     "execution_count": 9,
     "metadata": {},
     "output_type": "execute_result"
    }
   ],
   "source": [
    "imdb_data = pyg.datasets.IMDB(root='./data/IMDB')[0]\n",
    "imdb_data"
   ]
  },
  {
   "cell_type": "code",
   "execution_count": 10,
   "metadata": {},
   "outputs": [
    {
     "data": {
      "text/plain": [
       "MetaPath2Vec(11616, 50)"
      ]
     },
     "execution_count": 10,
     "metadata": {},
     "output_type": "execute_result"
    }
   ],
   "source": [
    "model = MetaPath2Vec(\n",
    "    imdb_data.edge_index_dict, \n",
    "    embedding_dim=50, \n",
    "    walk_length=20, \n",
    "    context_size=11, \n",
    "    metapath=[\n",
    "        ('actor', 'to', 'movie'),\n",
    "        ('movie', 'to', 'director'),\n",
    "        ('director', 'to', 'movie'),\n",
    "        ('movie', 'to', 'actor')\n",
    "    ],\n",
    "    sparse=True\n",
    ")\n",
    "model"
   ]
  },
  {
   "cell_type": "code",
   "execution_count": 11,
   "metadata": {},
   "outputs": [
    {
     "name": "stderr",
     "output_type": "stream",
     "text": [
      "Epoch: 1, Step: 00021/21, Loss: 1.0767: 100%|██████████| 21/21 [00:01<00:00, 20.91it/s]\n",
      "Epoch: 2, Step: 00021/21, Loss: 0.9588: 100%|██████████| 21/21 [00:00<00:00, 21.58it/s]\n",
      "Epoch: 3, Step: 00021/21, Loss: 0.8515: 100%|██████████| 21/21 [00:01<00:00, 20.51it/s]\n",
      "Epoch: 4, Step: 00021/21, Loss: 0.7653: 100%|██████████| 21/21 [00:01<00:00, 20.97it/s]\n",
      "Epoch: 5, Step: 00021/21, Loss: 0.6952: 100%|██████████| 21/21 [00:00<00:00, 21.93it/s]\n",
      "Epoch: 6, Step: 00021/21, Loss: 0.6378: 100%|██████████| 21/21 [00:00<00:00, 22.13it/s]\n",
      "Epoch: 7, Step: 00021/21, Loss: 0.5883: 100%|██████████| 21/21 [00:00<00:00, 22.39it/s]\n",
      "Epoch: 8, Step: 00021/21, Loss: 0.5467: 100%|██████████| 21/21 [00:01<00:00, 20.12it/s]\n",
      "Epoch: 9, Step: 00021/21, Loss: 0.5117: 100%|██████████| 21/21 [00:01<00:00, 20.59it/s]\n",
      "Epoch: 10, Step: 00021/21, Loss: 0.4796: 100%|██████████| 21/21 [00:00<00:00, 22.28it/s]\n",
      "Epoch: 11, Step: 00021/21, Loss: 0.4534: 100%|██████████| 21/21 [00:01<00:00, 19.98it/s]\n",
      "Epoch: 12, Step: 00021/21, Loss: 0.4273: 100%|██████████| 21/21 [00:00<00:00, 22.97it/s]\n",
      "Epoch: 13, Step: 00021/21, Loss: 0.4029: 100%|██████████| 21/21 [00:00<00:00, 22.01it/s]\n",
      "Epoch: 14, Step: 00021/21, Loss: 0.3838: 100%|██████████| 21/21 [00:00<00:00, 21.53it/s]\n",
      "Epoch: 15, Step: 00021/21, Loss: 0.3646: 100%|██████████| 21/21 [00:00<00:00, 21.22it/s]\n",
      "Epoch: 16, Step: 00021/21, Loss: 0.3490: 100%|██████████| 21/21 [00:00<00:00, 21.29it/s]\n",
      "Epoch: 17, Step: 00021/21, Loss: 0.3325: 100%|██████████| 21/21 [00:00<00:00, 21.84it/s]\n",
      "Epoch: 18, Step: 00021/21, Loss: 0.3193: 100%|██████████| 21/21 [00:00<00:00, 21.81it/s]\n",
      "Epoch: 19, Step: 00021/21, Loss: 0.3069: 100%|██████████| 21/21 [00:01<00:00, 20.56it/s]\n",
      "Epoch: 20, Step: 00021/21, Loss: 0.2974: 100%|██████████| 21/21 [00:00<00:00, 21.94it/s]\n"
     ]
    },
    {
     "data": {
      "text/plain": [
       "MetaPath2Vec(11616, 50)"
      ]
     },
     "execution_count": 11,
     "metadata": {},
     "output_type": "execute_result"
    }
   ],
   "source": [
    "import torch\n",
    "from tqdm import tqdm\n",
    "def train_mp2vec(\n",
    "        model: MetaPath2Vec,\n",
    "        loader: pyg.data.DataLoader, \n",
    "        optimizer: torch.optim.Optimizer,\n",
    "        log_steps=100, epochs=20) -> MetaPath2Vec:\n",
    "\n",
    "\n",
    "    for epoch in range(1, epochs+1):\n",
    "        model.train()\n",
    "        total_loss = 0\n",
    "        for i, (pos_rw, neg_rw) in (pbar:= tqdm(enumerate(loader), total=len(loader))):\n",
    "            pbar.set_description(f'Epoch: {epoch}, Step: {i + 1:05d}/{len(loader)}, '\n",
    "                    f'Loss: {total_loss / log_steps:.4f}')\n",
    "            optimizer.zero_grad()\n",
    "            loss = model.loss(pos_rw, neg_rw)\n",
    "            loss.backward()\n",
    "            optimizer.step()\n",
    "\n",
    "            total_loss += loss.item()\n",
    "            if (i + 1) % log_steps == 0:\n",
    "                pbar.set_description(f'Epoch: {epoch}, Step: {i + 1:05d}/{len(loader)}, '\n",
    "                    f'Loss: {total_loss / log_steps:.4f}')\n",
    "                total_loss = 0\n",
    "\n",
    "    return model\n",
    "\n",
    "\n",
    "loader = model.loader(batch_size=256, shuffle=True, num_workers=16)\n",
    "optimizer = torch.optim.SparseAdam(list(model.parameters()), lr=0.01)\n",
    "train_mp2vec(model, loader, optimizer)"
   ]
  },
  {
   "cell_type": "code",
   "execution_count": null,
   "metadata": {},
   "outputs": [],
   "source": []
  }
 ],
 "metadata": {
  "kernelspec": {
   "display_name": "base-exp",
   "language": "python",
   "name": "python3"
  },
  "language_info": {
   "codemirror_mode": {
    "name": "ipython",
    "version": 3
   },
   "file_extension": ".py",
   "mimetype": "text/x-python",
   "name": "python",
   "nbconvert_exporter": "python",
   "pygments_lexer": "ipython3",
   "version": "3.11.8"
  }
 },
 "nbformat": 4,
 "nbformat_minor": 2
}
